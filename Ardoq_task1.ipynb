{
  "nbformat": 4,
  "nbformat_minor": 0,
  "metadata": {
    "colab": {
      "name": "Ardoq-task1.ipynb",
      "provenance": [],
      "collapsed_sections": [],
      "authorship_tag": "ABX9TyO0X/WxwV7HQ7dzbqVdtSh6",
      "include_colab_link": true
    },
    "kernelspec": {
      "name": "python3",
      "display_name": "Python 3"
    }
  },
  "cells": [
    {
      "cell_type": "markdown",
      "metadata": {
        "id": "view-in-github",
        "colab_type": "text"
      },
      "source": [
        "<a href=\"https://colab.research.google.com/github/lisacbruns/ardoq-task/blob/main/Ardoq_task1.ipynb\" target=\"_parent\"><img src=\"https://colab.research.google.com/assets/colab-badge.svg\" alt=\"Open In Colab\"/></a>"
      ]
    },
    {
      "cell_type": "markdown",
      "metadata": {
        "id": "PBh_k7qfBqLC"
      },
      "source": [
        "# Task 1\n",
        "Create a function that, given a list of integers, returns the highest product between three of those numbers. For example, given the list [1, 10, 2, 6, 5, 3] the highest product would be 10 * 6 * 5 = 300.\n",
        "\n",
        "I'm assuming that there will only be positive integers in the list in my solution. If it is of interest I can also write a function that takes into account that the list can contain negative integers, e.g. the product of two negative integers can be higher than the product of two positive integers."
      ]
    },
    {
      "cell_type": "code",
      "metadata": {
        "colab": {
          "base_uri": "https://localhost:8080/"
        },
        "id": "1hf9nZjtBcVF",
        "outputId": "8503161c-e75e-438e-84df-22cb34e450ea"
      },
      "source": [
        "def highest_product(list_of_pos_int):\n",
        "\n",
        "  if len(list_of_pos_int) == 0: \n",
        "    return \"You have entered an empty list!\"\n",
        "  \n",
        "  elif len(list_of_pos_int) == 2: # else statement below would return opposite sign of the correct product\n",
        "    return list_of_pos_int[0]*list_of_pos_int[1]\n",
        "\n",
        "  else:\n",
        "    # x1, x2, x3 keeps track of the highest values as we iterate through the list\n",
        "    x1 = list_of_pos_int[0]\n",
        "    x2 = -1\n",
        "    x3 = -1\n",
        "    for i in range(1, len(list_of_pos_int)):\n",
        "      if list_of_pos_int[i] >= x1: # Checking whether list item is higher than or equal to current highest value, x1\n",
        "      # Updating variables accordingly\n",
        "        x3 = x2\n",
        "        x2 = x1\n",
        "        x1 = list_of_pos_int[i]\n",
        "      elif list_of_pos_int[i] >= x2: # Checking whether list item is higher than or equal to current second highest value, x2\n",
        "        x3 = x2\n",
        "        x2 = list_of_pos_int[i]\n",
        "      elif list_of_pos_int[i] > x3: # Avoiding unnecessary runtime by only updating if values are higher than x3\n",
        "        x3 = list_of_pos_int[i]\n",
        "    return x1*x2*x3\n",
        "\n",
        "print(\"Test with list = []:\")\n",
        "print(highest_product([]))\n",
        "print(\"Test with list = [1, 10, 2, 6, 5, 3]:\")\n",
        "print(highest_product([1, 10, 2, 6, 5, 3]))"
      ],
      "execution_count": 11,
      "outputs": [
        {
          "output_type": "stream",
          "text": [
            "Test with list = []:\n",
            "You have entered an empty list!\n",
            "Test with list = [1, 10, 2, 6, 5, 3]:\n",
            "300\n"
          ],
          "name": "stdout"
        }
      ]
    }
  ]
}